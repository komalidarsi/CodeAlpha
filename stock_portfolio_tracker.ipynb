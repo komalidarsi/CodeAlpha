{
 "cells": [
  {
   "cell_type": "markdown",
   "id": "83defe74-b558-484c-9381-1f9b26afc1b8",
   "metadata": {},
   "source": [
    "$$📈Stock Portfolio Tracker$$"
   ]
  },
  {
   "cell_type": "code",
   "execution_count": 5,
   "id": "803a05f1-e792-449a-a116-6f34ea4abe1b",
   "metadata": {},
   "outputs": [
    {
     "name": "stdin",
     "output_type": "stream",
     "text": [
      "Enter stock symbol (or type 'done' to finish):  AAPL\n",
      "Enter quantity of AAPL:  180\n",
      "Enter stock symbol (or type 'done' to finish):  TSLA\n",
      "Enter quantity of TSLA:  250\n",
      "Enter stock symbol (or type 'done' to finish):  GOOGL\n",
      "Enter quantity of GOOGL:  2800\n",
      "Enter stock symbol (or type 'done' to finish):  MSFT\n",
      "Enter quantity of MSFT:  320\n",
      "Enter stock symbol (or type 'done' to finish):  done\n"
     ]
    },
    {
     "name": "stdout",
     "output_type": "stream",
     "text": [
      "\n",
      "📊 Investment Summary:\n",
      "Stock     Quantity  Price     Total     \n",
      "----------------------------------------\n",
      "AAPL      180       180       32400     \n",
      "TSLA      250       250       62500     \n",
      "GOOGL     2800      2800      7840000   \n",
      "MSFT      320       320       102400    \n",
      "----------------------------------------\n",
      "Total Investment:              ₹8037300\n"
     ]
    },
    {
     "name": "stdin",
     "output_type": "stream",
     "text": [
      "\n",
      "Do you want to save this to a file? (y/n):  y\n"
     ]
    },
    {
     "name": "stdout",
     "output_type": "stream",
     "text": [
      "✅ Portfolio summary saved to 'portfolio_summary.txt'\n"
     ]
    }
   ],
   "source": [
    "# Hardcoded stock prices\n",
    "stock_prices = {\n",
    "    \"AAPL\": 180,\n",
    "    \"TSLA\": 250,\n",
    "    \"GOOGL\": 2800,\n",
    "    \"MSFT\": 320\n",
    "}\n",
    "\n",
    "portfolio = {}\n",
    "total_investment = 0\n",
    "\n",
    "# User Input\n",
    "while True:\n",
    "    stock = input(\"Enter stock symbol (or type 'done' to finish): \").upper()\n",
    "    if stock == 'DONE':\n",
    "        break\n",
    "    if stock in stock_prices:\n",
    "        try:\n",
    "            quantity = int(input(f\"Enter quantity of {stock}: \"))\n",
    "            portfolio[stock] = quantity\n",
    "        except ValueError:\n",
    "            print(\"Please enter a valid number.\")\n",
    "    else:\n",
    "        print(\"Stock not found in price list.\")\n",
    "\n",
    "# Calculate and display results\n",
    "print(\"\\n📊 Investment Summary:\")\n",
    "print(f\"{'Stock':<10}{'Quantity':<10}{'Price':<10}{'Total':<10}\")\n",
    "print(\"-\" * 40)\n",
    "\n",
    "for stock, quantity in portfolio.items():\n",
    "    price = stock_prices[stock]\n",
    "    total = price * quantity\n",
    "    total_investment += total\n",
    "    print(f\"{stock:<10}{quantity:<10}{price:<10}{total:<10}\")\n",
    "\n",
    "print(\"-\" * 40)\n",
    "print(f\"{'Total Investment:':<30} ₹{total_investment}\")\n",
    "\n",
    "# Optional: Save to file\n",
    "save = input(\"\\nDo you want to save this to a file? (y/n): \").lower()\n",
    "if save == 'y':\n",
    "    with open(\"portfolio_summary.txt\", \"w\", encoding=\"utf-8\") as file:\n",
    "        file.write(\"Stock\\tQuantity\\tPrice\\tTotal\\n\")\n",
    "        for stock, quantity in portfolio.items():\n",
    "            price = stock_prices[stock]\n",
    "            total = price * quantity\n",
    "            file.write(f\"{stock}\\t{quantity}\\t{price}\\t{total}\\n\")\n",
    "        file.write(f\"\\nTotal Investment:\\t₹{total_investment}\")\n",
    "    print(\"✅ Portfolio summary saved to 'portfolio_summary.txt'\")"
   ]
  },
  {
   "cell_type": "markdown",
   "id": "020794fc-afba-4ad5-85fb-5382e7f7a4f7",
   "metadata": {},
   "source": [
    "**🔹 Step 1: Define Stock Prices**\n",
    "\n",
    "We start by creating a list of stocks with fixed (hardcoded) prices. For example:\n",
    "\n",
    "  • AAPL: ₹180\n",
    "\n",
    "  • TSLA: ₹250\n",
    "\n",
    "  • GOOGL: ₹2800\n",
    "  \n",
    "These are stored in a dictionary so we can easily look up the price of each stock using its symbol."
   ]
  },
  {
   "cell_type": "markdown",
   "id": "51920951-55c9-4978-91e8-20df95d6b76c",
   "metadata": {},
   "source": [
    "**🔹 Step 2: Get User Input**\n",
    "\n",
    "The program asks the user to enter:\n",
    "\n",
    "   • The stock symbol (like AAPL or TSLA)\n",
    "\n",
    "   • The number of shares they own\n",
    "\n",
    "The user can input multiple stocks, and they type \"done\" when they finish.\n",
    "\n"
   ]
  },
  {
   "cell_type": "markdown",
   "id": "0ecedc93-915f-4661-9154-555128013a2c",
   "metadata": {},
   "source": [
    "**🔹 Step 3: Validate Input**\n",
    "The program checks if the entered stock exists in the predefined price list. If not, it shows an error.\n",
    "If it exists, it saves the stock symbol and quantity into a portfolio."
   ]
  },
  {
   "cell_type": "markdown",
   "id": "f007c948-fdb0-416f-a18a-df1d4e20c00c",
   "metadata": {},
   "source": [
    "**🔹 Step 4: Calculate Total Investment** \n",
    "\n",
    "For each stock the user entered:\n",
    "\n",
    "  • The program multiplies the number of shares by the price per share.\n",
    "\n",
    "  • This gives the total investment value for that stock.\n",
    "\n",
    "  • All individual totals are added together to get the total portfolio value.\n",
    "\n"
   ]
  },
  {
   "cell_type": "markdown",
   "id": "81806929-124a-400a-9f0c-1e9f56e3628b",
   "metadata": {},
   "source": [
    "**🔹 Step 5: Display Results**\n",
    "\n",
    "A summary table is shown that includes:\n",
    "\n",
    "  • Stock symbol\n",
    "\n",
    "  • Number of shares\n",
    "\n",
    "  • Price per share\n",
    "\n",
    "  • Total value of that stockAt the end, the total investment across all stocks is displayed."
   ]
  },
  {
   "cell_type": "markdown",
   "id": "d87a6bbe-c0c9-4fea-a9ff-3d0941a722b1",
   "metadata": {},
   "source": [
    "**🔹 Step 6 (Optional): Save to File**\n",
    "\n",
    "The user is asked if they want to save the results.\n",
    "If yes:\n",
    "\n",
    "  • The program creates a .txt file.\n",
    "\n",
    "  • It writes the same summary into the file (stock details + total investment).\n",
    "\n"
   ]
  },
  {
   "cell_type": "markdown",
   "id": "1a16f6d0-e523-40ab-bf08-6570cc4daaca",
   "metadata": {},
   "source": [
    "**📚 Key Concepts Used:**\n",
    "| Concept           | Description                                              |\n",
    "| ----------------- | -------------------------------------------------------- |\n",
    "| **Dictionary**    | Used to store stock names and prices for fast lookup.    |\n",
    "| **User Input**    | Used to collect stock symbols and quantities.            |\n",
    "| **Loops**         | Used to repeatedly ask for input until the user is done. |\n",
    "| **Arithmetic**    | Used to calculate total investment per stock.            |\n",
    "| **File Handling** | (Optional) Used to save results into a `.txt` file.      |\n",
    "\n",
    "\n"
   ]
  },
  {
   "cell_type": "code",
   "execution_count": null,
   "id": "028aa602-196a-4c48-b6a1-e5d2e9830629",
   "metadata": {},
   "outputs": [],
   "source": []
  }
 ],
 "metadata": {
  "kernelspec": {
   "display_name": "Python 3 (ipykernel)",
   "language": "python",
   "name": "python3"
  },
  "language_info": {
   "codemirror_mode": {
    "name": "ipython",
    "version": 3
   },
   "file_extension": ".py",
   "mimetype": "text/x-python",
   "name": "python",
   "nbconvert_exporter": "python",
   "pygments_lexer": "ipython3",
   "version": "3.13.5"
  }
 },
 "nbformat": 4,
 "nbformat_minor": 5
}
