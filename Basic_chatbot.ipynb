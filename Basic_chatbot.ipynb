{
 "cells": [
  {
   "cell_type": "markdown",
   "id": "2bac775b-d5e9-417e-9ffe-99dd7a509c0b",
   "metadata": {},
   "source": [
    "$$🤖 Basic Chatbot$$"
   ]
  },
  {
   "cell_type": "code",
   "execution_count": 1,
   "id": "0d15c14c-b23b-4ea1-9e89-5a962b2a46db",
   "metadata": {},
   "outputs": [
    {
     "name": "stdout",
     "output_type": "stream",
     "text": [
      "Chatbot: Hello! You can talk to me (type 'bye' to exit).\n"
     ]
    },
    {
     "name": "stdin",
     "output_type": "stream",
     "text": [
      "You:  hi\n"
     ]
    },
    {
     "name": "stdout",
     "output_type": "stream",
     "text": [
      "Chatbot: Sorry, I didn't understand that.\n"
     ]
    },
    {
     "name": "stdin",
     "output_type": "stream",
     "text": [
      "You:  hello\n"
     ]
    },
    {
     "name": "stdout",
     "output_type": "stream",
     "text": [
      "Chatbot: Hi!\n"
     ]
    },
    {
     "name": "stdin",
     "output_type": "stream",
     "text": [
      "You:  how are you\n"
     ]
    },
    {
     "name": "stdout",
     "output_type": "stream",
     "text": [
      "Chatbot: I'm fine, thanks!\n"
     ]
    },
    {
     "name": "stdin",
     "output_type": "stream",
     "text": [
      "You:  bye\n"
     ]
    },
    {
     "name": "stdout",
     "output_type": "stream",
     "text": [
      "Chatbot: Goodbye!\n"
     ]
    }
   ],
   "source": [
    "# Define a chatbot function\n",
    "def simple_chatbot():\n",
    "    print(\"Chatbot: Hello! You can talk to me (type 'bye' to exit).\")\n",
    "    \n",
    "    while True:\n",
    "        user_input = input(\"You: \").lower().strip()\n",
    "        \n",
    "        if user_input == \"hello\":\n",
    "            print(\"Chatbot: Hi!\")\n",
    "        elif user_input == \"how are you\":\n",
    "            print(\"Chatbot: I'm fine, thanks!\")\n",
    "        elif user_input == \"bye\":\n",
    "            print(\"Chatbot: Goodbye!\")\n",
    "            break\n",
    "        else:\n",
    "            print(\"Chatbot: Sorry, I didn't understand that.\")\n",
    "\n",
    "# Run the chatbot\n",
    "simple_chatbot()\n"
   ]
  },
  {
   "cell_type": "markdown",
   "id": "cb054201-c8d7-484e-9aa2-9f1be9f20e6a",
   "metadata": {},
   "source": [
    "**✅ Step 1: Greet the User**\n",
    "\n",
    "  • When the chatbot starts, it displays a welcome message like:\n",
    "\n",
    "    • “Hello! You can talk to me (type 'bye' to exit).”\n",
    "\n",
    "  • This helps the user understand how to begin."
   ]
  },
  {
   "cell_type": "markdown",
   "id": "95b1001b-1e8b-455c-9f6f-aeea6cc1baca",
   "metadata": {},
   "source": [
    "**✅ Step 2: Take User Input**\n",
    "\n",
    "  • The chatbot waits for the user to type something.\n",
    "\n",
    "  • Example inputs:\n",
    "\n",
    "    • \"hello\"\n",
    "\n",
    "    • \"how are you\"\n",
    "\n",
    "    • \"bye\"\n",
    "    \n",
    "    • or anything else."
   ]
  },
  {
   "cell_type": "markdown",
   "id": "0996abf5-97ae-427e-99f9-d8525d005eef",
   "metadata": {},
   "source": [
    "**✅ Step 3: Analyze the Input**\n",
    "\n",
    "  • The chatbot checks what the user typed.\n",
    "\n",
    "  • It uses conditional logic (like if, elif, else) to compare the input with known phrases."
   ]
  },
  {
   "cell_type": "markdown",
   "id": "2331ed24-2e86-4d24-9a01-50fa4db86687",
   "metadata": {},
   "source": [
    "**✅ Step 4: Respond Accordingly**\n",
    "\n",
    "  • If the input matches a known phrase:\n",
    "\n",
    "  • \"hello\" → reply: “Hi!”\n",
    "\n",
    "  • \"how are you\" → reply: “I’m fine, thanks!”\n",
    "\n",
    "  • \"bye\" → reply: “Goodbye!” and end the chat.\n",
    "\n",
    "  •I f the input doesn’t match any known phrase:\n",
    "\n",
    "  • Reply with something like “I don't understand that.”\n",
    "\n"
   ]
  },
  {
   "cell_type": "markdown",
   "id": "43e15d6b-728d-4e5c-94da-3e3a74351073",
   "metadata": {},
   "source": [
    "**✅ Step 5: Loop the Conversation**\n",
    "\n",
    "  • After replying, the chatbot goes back to Step 2 and waits for the next message.\n",
    "\n",
    "  • This continues in a loop."
   ]
  },
  {
   "cell_type": "markdown",
   "id": "a5abf333-df7b-49b1-be18-d3fde8d774f1",
   "metadata": {},
   "source": [
    "**✅ Step 6: Exit the Chat**\n",
    "\n",
    "  • If the user types \"bye\", the chatbot ends the loop and stops.\n",
    "\n",
    "  • It gives a goodbye message before exiting.\n",
    "\n"
   ]
  },
  {
   "cell_type": "code",
   "execution_count": null,
   "id": "87ec8f18-9646-43cd-95d2-56616fb48a26",
   "metadata": {},
   "outputs": [],
   "source": []
  }
 ],
 "metadata": {
  "kernelspec": {
   "display_name": "Python 3 (ipykernel)",
   "language": "python",
   "name": "python3"
  },
  "language_info": {
   "codemirror_mode": {
    "name": "ipython",
    "version": 3
   },
   "file_extension": ".py",
   "mimetype": "text/x-python",
   "name": "python",
   "nbconvert_exporter": "python",
   "pygments_lexer": "ipython3",
   "version": "3.13.5"
  }
 },
 "nbformat": 4,
 "nbformat_minor": 5
}
