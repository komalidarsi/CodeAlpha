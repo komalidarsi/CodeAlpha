{
 "cells": [
  {
   "cell_type": "markdown",
   "id": "2359efb0-cd90-4210-ab8d-705da3269c0d",
   "metadata": {},
   "source": [
    "$$HangamGame$$"
   ]
  },
  {
   "cell_type": "code",
   "execution_count": 1,
   "id": "129b12ee-a824-4370-acdb-a55fbc5087f1",
   "metadata": {},
   "outputs": [
    {
     "name": "stdout",
     "output_type": "stream",
     "text": [
      "🎮 Welcome to Hangman!\n",
      "Guess the word, one letter at a time.\n",
      "\n",
      "Word: _ _ _ _ _\n"
     ]
    },
    {
     "name": "stdin",
     "output_type": "stream",
     "text": [
      "Guess a letter:  r\n"
     ]
    },
    {
     "name": "stdout",
     "output_type": "stream",
     "text": [
      "❌ Wrong guess! Attempts left: 5\n",
      "\n",
      "Word: _ _ _ _ _\n"
     ]
    },
    {
     "name": "stdin",
     "output_type": "stream",
     "text": [
      "Guess a letter:  a\n"
     ]
    },
    {
     "name": "stdout",
     "output_type": "stream",
     "text": [
      "✅ Good guess!\n",
      "\n",
      "Word: a _ _ _ _\n"
     ]
    },
    {
     "name": "stdin",
     "output_type": "stream",
     "text": [
      "Guess a letter:  p\n"
     ]
    },
    {
     "name": "stdout",
     "output_type": "stream",
     "text": [
      "✅ Good guess!\n",
      "\n",
      "Word: a p p _ _\n"
     ]
    },
    {
     "name": "stdin",
     "output_type": "stream",
     "text": [
      "Guess a letter:  l\n"
     ]
    },
    {
     "name": "stdout",
     "output_type": "stream",
     "text": [
      "✅ Good guess!\n",
      "\n",
      "Word: a p p l _\n"
     ]
    },
    {
     "name": "stdin",
     "output_type": "stream",
     "text": [
      "Guess a letter:  e\n"
     ]
    },
    {
     "name": "stdout",
     "output_type": "stream",
     "text": [
      "✅ Good guess!\n",
      "\n",
      "🎉 Congratulations! You guessed the word: apple\n"
     ]
    }
   ],
   "source": [
    "import random\n",
    "\n",
    "# Predefined list of 5 words\n",
    "word_list = [\"apple\", \"train\", \"house\", \"plant\", \"river\"]\n",
    "\n",
    "# Randomly choose a word from the list\n",
    "chosen_word = random.choice(word_list)\n",
    "word_length = len(chosen_word)\n",
    "\n",
    "# Game settings\n",
    "max_attempts = 6\n",
    "attempts_left = max_attempts\n",
    "guessed_letters = []\n",
    "display = [\"_\"] * word_length\n",
    "\n",
    "print(\"🎮 Welcome to Hangman!\")\n",
    "print(\"Guess the word, one letter at a time.\")\n",
    "\n",
    "# Game loop\n",
    "while attempts_left > 0 and \"_\" in display:\n",
    "    print(\"\\nWord: \" + \" \".join(display))\n",
    "    guess = input(\"Guess a letter: \").lower()\n",
    "\n",
    "    # Input validation\n",
    "    if not guess.isalpha() or len(guess) != 1:\n",
    "        print(\"❌ Please enter a single alphabet letter.\")\n",
    "        continue\n",
    "\n",
    "    # Check if letter was already guessed\n",
    "    if guess in guessed_letters:\n",
    "        print(\"🔁 You already guessed that letter.\")\n",
    "        continue\n",
    "\n",
    "    guessed_letters.append(guess)\n",
    "\n",
    "    # Check if the guess is correct\n",
    "    if guess in chosen_word:\n",
    "        print(\"✅ Good guess!\")\n",
    "        for i in range(word_length):\n",
    "            if chosen_word[i] == guess:\n",
    "                display[i] = guess\n",
    "    else:\n",
    "        attempts_left -= 1\n",
    "        print(f\"❌ Wrong guess! Attempts left: {attempts_left}\")\n",
    "\n",
    "# End of game result\n",
    "if \"_\" not in display:\n",
    "    print(\"\\n🎉 Congratulations! You guessed the word:\", chosen_word)\n",
    "else:\n",
    "    print(\"\\n💀 Game Over! The word was:\", chosen_word)\n"
   ]
  },
  {
   "cell_type": "markdown",
   "id": "0a424dbe-598a-47ce-ab27-a1441a25048a",
   "metadata": {},
   "source": [
    "**Step-1: Import module**\n",
    "\n",
    "  - 🎯 Allows you to use the random.choice() function to select a word from a list.\n"
   ]
  },
  {
   "cell_type": "markdown",
   "id": "23eb7db5-31cf-4fe6-9854-6103b8111b33",
   "metadata": {},
   "source": [
    "**Step-2: Define the word list**\n",
    "- 🛠 word_list: This is a list of 5 predefined words.\n",
    "- ✨ Used later to randomly pick a word "
   ]
  },
  {
   "cell_type": "markdown",
   "id": "2304fcff-a088-462a-86f4-3ef5de112116",
   "metadata": {},
   "source": [
    "**Step-3: Randomly choose a word**\n",
    "    \n",
    " • 🎯 random.choice() picks one word randomly from word_list.\n",
    " \n",
    " • 🧮 word_length stores how many letters are in the chosen word.\n",
    "     "
   ]
  },
  {
   "cell_type": "markdown",
   "id": "6ae2abc7-bcfc-42bf-93ce-c8c6ed6dd5ea",
   "metadata": {},
   "source": [
    "**Step-4: Initialize game state** \n",
    "\n",
    "•🧯 max_attempts = 6: You can make 6 wrong guesses before losing.\n",
    "\n",
    "•⏳attempts_left keeps track of how many wrong guesses you have left.\n",
    "\n",
    "•🧠 guessed_letters is a list to track letters already guessed.\n",
    "\n",
    "•📺 display shows the progress of the word using underscores:"
   ]
  },
  {
   "cell_type": "markdown",
   "id": "f4368ac8-b855-4b8e-9ff1-e934d968d160",
   "metadata": {},
   "source": [
    "**Step-5: Start the game**\n",
    "- Print a welcome message "
   ]
  },
  {
   "cell_type": "markdown",
   "id": "10066308-9837-47c9-b3c1-2b322790a465",
   "metadata": {},
   "source": [
    "**Step-6: Main game loop**\n",
    "\n",
    " 🔄 Loop runs until:\n",
    "\n",
    " • ❌ All 6 attempts are used (attempts_left == 0) OR\n",
    "\n",
    " • ✅ Word is fully guessed (no more underscores)"
   ]
  },
  {
   "cell_type": "markdown",
   "id": "68e276e0-9839-4bc4-8b80-0e226e18623f",
   "metadata": {},
   "source": [
    "**Step-7: Show current word status**\n",
    "\n",
    "• 🖥 Shows the current state of the word with spaces:\n"
   ]
  },
  {
   "cell_type": "markdown",
   "id": "65c0e9e2-fc7c-4a05-8367-63bf863634bb",
   "metadata": {},
   "source": [
    "**Step-8: Get players guess**\n",
    "\n",
    "• 🧑 Takes user input and converts it to lowercase.\n",
    "\n",
    "•  Prevents \"A\" and \"a\" from being treated differently."
   ]
  },
  {
   "cell_type": "markdown",
   "id": "30fad8b2-ea12-4642-a41e-31bea138374b",
   "metadata": {},
   "source": [
    "**Step-9: Validate input**\n",
    "\n",
    "• 🧪 Makes sure the input is a single letter and not a number or multiple characters.\n",
    "\n",
    "• 🚫 If invalid, it skips the rest of the loop using continue.\n",
    "\n"
   ]
  },
  {
   "cell_type": "markdown",
   "id": "4d1e2e05-7e7d-481e-84a2-5635715adbdf",
   "metadata": {},
   "source": [
    "**Step-10: Check for duplicate guess**\n",
    "\n",
    " • 🧠 If you already guessed the same letter, it warns you and asks again."
   ]
  },
  {
   "cell_type": "markdown",
   "id": "041f0510-662f-4487-af80-aaa36b4bf2ef",
   "metadata": {},
   "source": [
    "**Step-11: Store the guess**\n",
    "\n",
    "• 📌 Adds the guessed letter to the list to track future duplicates."
   ]
  },
  {
   "cell_type": "markdown",
   "id": "9abc03ef-d11a-4e2a-909d-9a915ebe67b5",
   "metadata": {},
   "source": [
    "**Step-12: Check if letter is in word**\n",
    "\n",
    " • ✅ If the letter is correct:\n",
    "\n",
    " •  Loop through the word and reveal every position where the letter occurs.\n"
   ]
  },
  {
   "cell_type": "markdown",
   "id": "d5aa5593-5c42-499c-b93d-6bd0d6f9f9d6",
   "metadata": {},
   "source": [
    "**Step-13: If letter is incorrect**\n",
    "\n",
    "• ❌ If the letter is not in the word:\n",
    "\n",
    " •  Reduce attempts_left by 1.\n"
   ]
  },
  {
   "cell_type": "markdown",
   "id": "b13f38b5-6920-4481-9dca-ed6579b4ed77",
   "metadata": {},
   "source": [
    "**Step-14: Game end conditions**\n",
    "\n",
    "•  🏆 If all letters are guessed → You win! 🎉\n",
    "\n",
    " •  ☠️ If you used up all 6 attempts → You lose 😞\n"
   ]
  },
  {
   "cell_type": "code",
   "execution_count": null,
   "id": "72da73cf-61b3-47d3-9f89-50b949a7bda6",
   "metadata": {},
   "outputs": [],
   "source": []
  }
 ],
 "metadata": {
  "kernelspec": {
   "display_name": "Python 3 (ipykernel)",
   "language": "python",
   "name": "python3"
  },
  "language_info": {
   "codemirror_mode": {
    "name": "ipython",
    "version": 3
   },
   "file_extension": ".py",
   "mimetype": "text/x-python",
   "name": "python",
   "nbconvert_exporter": "python",
   "pygments_lexer": "ipython3",
   "version": "3.13.5"
  }
 },
 "nbformat": 4,
 "nbformat_minor": 5
}
